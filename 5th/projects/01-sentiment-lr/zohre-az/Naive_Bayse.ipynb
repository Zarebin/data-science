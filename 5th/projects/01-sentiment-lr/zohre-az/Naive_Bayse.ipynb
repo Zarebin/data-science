{
  "cells": [
    {
      "cell_type": "code",
      "execution_count": 71,
      "id": "81bf5f5d",
      "metadata": {
        "colab": {
          "base_uri": "https://localhost:8080/",
          "height": 206
        },
        "id": "81bf5f5d",
        "outputId": "855eae4f-746d-45e2-cc88-9c35dfb120e6"
      },
      "outputs": [
        {
          "output_type": "execute_result",
          "data": {
            "text/plain": [
              "   line                                               text average tag\n",
              "0     1                          با تشکر از شما آقای عباسی    POSITIVE\n",
              "1     2         برنامه خندوانه به زندگی ما انرژی داده مرسی    POSITIVE\n",
              "2     3  مواظب کلیدت باش تو برفا گم نشه ،شب خونه راهت ن...    NEGATIVE\n",
              "3     4  مایه افتخار ما شیرازی هاست که آقا اومدن اونجا ...    POSITIVE\n",
              "4     5                  @_zahra_str_75 بیخیار سالاد نمیشه     NATURAL"
            ],
            "text/html": [
              "\n",
              "  <div id=\"df-d51f2897-d249-4766-b0f5-6394f2482bfc\">\n",
              "    <div class=\"colab-df-container\">\n",
              "      <div>\n",
              "<style scoped>\n",
              "    .dataframe tbody tr th:only-of-type {\n",
              "        vertical-align: middle;\n",
              "    }\n",
              "\n",
              "    .dataframe tbody tr th {\n",
              "        vertical-align: top;\n",
              "    }\n",
              "\n",
              "    .dataframe thead th {\n",
              "        text-align: right;\n",
              "    }\n",
              "</style>\n",
              "<table border=\"1\" class=\"dataframe\">\n",
              "  <thead>\n",
              "    <tr style=\"text-align: right;\">\n",
              "      <th></th>\n",
              "      <th>line</th>\n",
              "      <th>text</th>\n",
              "      <th>average tag</th>\n",
              "    </tr>\n",
              "  </thead>\n",
              "  <tbody>\n",
              "    <tr>\n",
              "      <th>0</th>\n",
              "      <td>1</td>\n",
              "      <td>با تشکر از شما آقای عباسی</td>\n",
              "      <td>POSITIVE</td>\n",
              "    </tr>\n",
              "    <tr>\n",
              "      <th>1</th>\n",
              "      <td>2</td>\n",
              "      <td>برنامه خندوانه به زندگی ما انرژی داده مرسی</td>\n",
              "      <td>POSITIVE</td>\n",
              "    </tr>\n",
              "    <tr>\n",
              "      <th>2</th>\n",
              "      <td>3</td>\n",
              "      <td>مواظب کلیدت باش تو برفا گم نشه ،شب خونه راهت ن...</td>\n",
              "      <td>NEGATIVE</td>\n",
              "    </tr>\n",
              "    <tr>\n",
              "      <th>3</th>\n",
              "      <td>4</td>\n",
              "      <td>مایه افتخار ما شیرازی هاست که آقا اومدن اونجا ...</td>\n",
              "      <td>POSITIVE</td>\n",
              "    </tr>\n",
              "    <tr>\n",
              "      <th>4</th>\n",
              "      <td>5</td>\n",
              "      <td>@_zahra_str_75 بیخیار سالاد نمیشه</td>\n",
              "      <td>NATURAL</td>\n",
              "    </tr>\n",
              "  </tbody>\n",
              "</table>\n",
              "</div>\n",
              "      <button class=\"colab-df-convert\" onclick=\"convertToInteractive('df-d51f2897-d249-4766-b0f5-6394f2482bfc')\"\n",
              "              title=\"Convert this dataframe to an interactive table.\"\n",
              "              style=\"display:none;\">\n",
              "        \n",
              "  <svg xmlns=\"http://www.w3.org/2000/svg\" height=\"24px\"viewBox=\"0 0 24 24\"\n",
              "       width=\"24px\">\n",
              "    <path d=\"M0 0h24v24H0V0z\" fill=\"none\"/>\n",
              "    <path d=\"M18.56 5.44l.94 2.06.94-2.06 2.06-.94-2.06-.94-.94-2.06-.94 2.06-2.06.94zm-11 1L8.5 8.5l.94-2.06 2.06-.94-2.06-.94L8.5 2.5l-.94 2.06-2.06.94zm10 10l.94 2.06.94-2.06 2.06-.94-2.06-.94-.94-2.06-.94 2.06-2.06.94z\"/><path d=\"M17.41 7.96l-1.37-1.37c-.4-.4-.92-.59-1.43-.59-.52 0-1.04.2-1.43.59L10.3 9.45l-7.72 7.72c-.78.78-.78 2.05 0 2.83L4 21.41c.39.39.9.59 1.41.59.51 0 1.02-.2 1.41-.59l7.78-7.78 2.81-2.81c.8-.78.8-2.07 0-2.86zM5.41 20L4 18.59l7.72-7.72 1.47 1.35L5.41 20z\"/>\n",
              "  </svg>\n",
              "      </button>\n",
              "      \n",
              "  <style>\n",
              "    .colab-df-container {\n",
              "      display:flex;\n",
              "      flex-wrap:wrap;\n",
              "      gap: 12px;\n",
              "    }\n",
              "\n",
              "    .colab-df-convert {\n",
              "      background-color: #E8F0FE;\n",
              "      border: none;\n",
              "      border-radius: 50%;\n",
              "      cursor: pointer;\n",
              "      display: none;\n",
              "      fill: #1967D2;\n",
              "      height: 32px;\n",
              "      padding: 0 0 0 0;\n",
              "      width: 32px;\n",
              "    }\n",
              "\n",
              "    .colab-df-convert:hover {\n",
              "      background-color: #E2EBFA;\n",
              "      box-shadow: 0px 1px 2px rgba(60, 64, 67, 0.3), 0px 1px 3px 1px rgba(60, 64, 67, 0.15);\n",
              "      fill: #174EA6;\n",
              "    }\n",
              "\n",
              "    [theme=dark] .colab-df-convert {\n",
              "      background-color: #3B4455;\n",
              "      fill: #D2E3FC;\n",
              "    }\n",
              "\n",
              "    [theme=dark] .colab-df-convert:hover {\n",
              "      background-color: #434B5C;\n",
              "      box-shadow: 0px 1px 3px 1px rgba(0, 0, 0, 0.15);\n",
              "      filter: drop-shadow(0px 1px 2px rgba(0, 0, 0, 0.3));\n",
              "      fill: #FFFFFF;\n",
              "    }\n",
              "  </style>\n",
              "\n",
              "      <script>\n",
              "        const buttonEl =\n",
              "          document.querySelector('#df-d51f2897-d249-4766-b0f5-6394f2482bfc button.colab-df-convert');\n",
              "        buttonEl.style.display =\n",
              "          google.colab.kernel.accessAllowed ? 'block' : 'none';\n",
              "\n",
              "        async function convertToInteractive(key) {\n",
              "          const element = document.querySelector('#df-d51f2897-d249-4766-b0f5-6394f2482bfc');\n",
              "          const dataTable =\n",
              "            await google.colab.kernel.invokeFunction('convertToInteractive',\n",
              "                                                     [key], {});\n",
              "          if (!dataTable) return;\n",
              "\n",
              "          const docLinkHtml = 'Like what you see? Visit the ' +\n",
              "            '<a target=\"_blank\" href=https://colab.research.google.com/notebooks/data_table.ipynb>data table notebook</a>'\n",
              "            + ' to learn more about interactive tables.';\n",
              "          element.innerHTML = '';\n",
              "          dataTable['output_type'] = 'display_data';\n",
              "          await google.colab.output.renderOutput(dataTable, element);\n",
              "          const docLink = document.createElement('div');\n",
              "          docLink.innerHTML = docLinkHtml;\n",
              "          element.appendChild(docLink);\n",
              "        }\n",
              "      </script>\n",
              "    </div>\n",
              "  </div>\n",
              "  "
            ]
          },
          "metadata": {},
          "execution_count": 71
        }
      ],
      "source": [
        "import pandas\n",
        "import matplotlib.pyplot as plt\n",
        "import os, os.path\n",
        "import numpy as np\n",
        "import math\n",
        "\n",
        "\n",
        "path = os.getcwd() \n",
        "\n",
        "df = pandas.read_csv('/content/drive/MyDrive/MCI/data for armankade.csv', sep='\\t')\n",
        "df.head()"
      ]
    },
    {
      "cell_type": "code",
      "execution_count": 3,
      "id": "128074ed",
      "metadata": {
        "colab": {
          "base_uri": "https://localhost:8080/"
        },
        "id": "128074ed",
        "outputId": "a6199c35-5929-4d91-dc4b-1f88dcae49ba"
      },
      "outputs": [
        {
          "output_type": "stream",
          "name": "stdout",
          "text": [
            "Looking in indexes: https://pypi.org/simple, https://us-python.pkg.dev/colab-wheels/public/simple/\n",
            "Collecting emoji\n",
            "  Downloading emoji-2.2.0.tar.gz (240 kB)\n",
            "\u001b[2K     \u001b[90m━━━━━━━━━━━━━━━━━━━━━━━━━━━━━━━━━━━━━━━\u001b[0m \u001b[32m240.9/240.9 KB\u001b[0m \u001b[31m6.4 MB/s\u001b[0m eta \u001b[36m0:00:00\u001b[0m\n",
            "\u001b[?25h  Preparing metadata (setup.py) ... \u001b[?25l\u001b[?25hdone\n",
            "Building wheels for collected packages: emoji\n",
            "  Building wheel for emoji (setup.py) ... \u001b[?25l\u001b[?25hdone\n",
            "  Created wheel for emoji: filename=emoji-2.2.0-py3-none-any.whl size=234926 sha256=1fcb37cdb4e6856e39ed06383ac362ad900c5155fe816e9b82d3f11a5dd2baeb\n",
            "  Stored in directory: /root/.cache/pip/wheels/86/62/9e/a6b27a681abcde69970dbc0326ff51955f3beac72f15696984\n",
            "Successfully built emoji\n",
            "Installing collected packages: emoji\n",
            "Successfully installed emoji-2.2.0\n"
          ]
        }
      ],
      "source": [
        "!pip install emoji"
      ]
    },
    {
      "cell_type": "code",
      "execution_count": 72,
      "id": "1a0c1b1d",
      "metadata": {
        "colab": {
          "base_uri": "https://localhost:8080/",
          "height": 457
        },
        "id": "1a0c1b1d",
        "outputId": "f6831c1a-6094-4a7d-cbb9-28ebbd30c11c"
      },
      "outputs": [
        {
          "output_type": "execute_result",
          "data": {
            "text/plain": [
              "    line                                               text average tag  \\\n",
              "0      1                          با تشکر از شما آقای عباسی    POSITIVE   \n",
              "1      2         برنامه خندوانه به زندگی ما انرژی داده مرسی    POSITIVE   \n",
              "2      3  مواظب کلیدت باش تو برفا گم نشه ،شب خونه راهت ن...    NEGATIVE   \n",
              "3      4  مایه افتخار ما شیرازی هاست که آقا اومدن اونجا ...    POSITIVE   \n",
              "4      5                                 بیخیار سالاد نمیشه     NATURAL   \n",
              "5      6  بعضی ها به خدا افاقه میکنند بعضی ها به کدخدا ب...     NATURAL   \n",
              "6      7                                             عشششقم    POSITIVE   \n",
              "7      8                            عاشقه این اهنگمبی نظیره    POSITIVE   \n",
              "8      9  على بابا باشين اوستى شهيدلره مدفندى/مسجدوه گلي...      BiMani   \n",
              "9     10                 مردی تو عمل پای حرف امام خمینی باش    NEGATIVE   \n",
              "10    11                                     زنده باد رهبرم    POSITIVE   \n",
              "11    12  سلام پیجی برای دهه هشتادی ها برای شرکت در مدلی...     NATURAL   \n",
              "12    13  لطفا پیام من رو به خندوانه در خندوانه اعلام کن...     NATURAL   \n",
              "\n",
              "        emoji  \n",
              "0          []  \n",
              "1          []  \n",
              "2          []  \n",
              "3   [🌸, 🌼, 🌷]  \n",
              "4          []  \n",
              "5          []  \n",
              "6         [😍]  \n",
              "7   [❤, 👌, 💪]  \n",
              "8          []  \n",
              "9          []  \n",
              "10         []  \n",
              "11        [🙌]  \n",
              "12         []  "
            ],
            "text/html": [
              "\n",
              "  <div id=\"df-18958e53-d9e0-4181-b441-c84caf34d500\">\n",
              "    <div class=\"colab-df-container\">\n",
              "      <div>\n",
              "<style scoped>\n",
              "    .dataframe tbody tr th:only-of-type {\n",
              "        vertical-align: middle;\n",
              "    }\n",
              "\n",
              "    .dataframe tbody tr th {\n",
              "        vertical-align: top;\n",
              "    }\n",
              "\n",
              "    .dataframe thead th {\n",
              "        text-align: right;\n",
              "    }\n",
              "</style>\n",
              "<table border=\"1\" class=\"dataframe\">\n",
              "  <thead>\n",
              "    <tr style=\"text-align: right;\">\n",
              "      <th></th>\n",
              "      <th>line</th>\n",
              "      <th>text</th>\n",
              "      <th>average tag</th>\n",
              "      <th>emoji</th>\n",
              "    </tr>\n",
              "  </thead>\n",
              "  <tbody>\n",
              "    <tr>\n",
              "      <th>0</th>\n",
              "      <td>1</td>\n",
              "      <td>با تشکر از شما آقای عباسی</td>\n",
              "      <td>POSITIVE</td>\n",
              "      <td>[]</td>\n",
              "    </tr>\n",
              "    <tr>\n",
              "      <th>1</th>\n",
              "      <td>2</td>\n",
              "      <td>برنامه خندوانه به زندگی ما انرژی داده مرسی</td>\n",
              "      <td>POSITIVE</td>\n",
              "      <td>[]</td>\n",
              "    </tr>\n",
              "    <tr>\n",
              "      <th>2</th>\n",
              "      <td>3</td>\n",
              "      <td>مواظب کلیدت باش تو برفا گم نشه ،شب خونه راهت ن...</td>\n",
              "      <td>NEGATIVE</td>\n",
              "      <td>[]</td>\n",
              "    </tr>\n",
              "    <tr>\n",
              "      <th>3</th>\n",
              "      <td>4</td>\n",
              "      <td>مایه افتخار ما شیرازی هاست که آقا اومدن اونجا ...</td>\n",
              "      <td>POSITIVE</td>\n",
              "      <td>[🌸, 🌼, 🌷]</td>\n",
              "    </tr>\n",
              "    <tr>\n",
              "      <th>4</th>\n",
              "      <td>5</td>\n",
              "      <td>بیخیار سالاد نمیشه</td>\n",
              "      <td>NATURAL</td>\n",
              "      <td>[]</td>\n",
              "    </tr>\n",
              "    <tr>\n",
              "      <th>5</th>\n",
              "      <td>6</td>\n",
              "      <td>بعضی ها به خدا افاقه میکنند بعضی ها به کدخدا ب...</td>\n",
              "      <td>NATURAL</td>\n",
              "      <td>[]</td>\n",
              "    </tr>\n",
              "    <tr>\n",
              "      <th>6</th>\n",
              "      <td>7</td>\n",
              "      <td>عشششقم</td>\n",
              "      <td>POSITIVE</td>\n",
              "      <td>[😍]</td>\n",
              "    </tr>\n",
              "    <tr>\n",
              "      <th>7</th>\n",
              "      <td>8</td>\n",
              "      <td>عاشقه این اهنگمبی نظیره</td>\n",
              "      <td>POSITIVE</td>\n",
              "      <td>[❤, 👌, 💪]</td>\n",
              "    </tr>\n",
              "    <tr>\n",
              "      <th>8</th>\n",
              "      <td>9</td>\n",
              "      <td>على بابا باشين اوستى شهيدلره مدفندى/مسجدوه گلي...</td>\n",
              "      <td>BiMani</td>\n",
              "      <td>[]</td>\n",
              "    </tr>\n",
              "    <tr>\n",
              "      <th>9</th>\n",
              "      <td>10</td>\n",
              "      <td>مردی تو عمل پای حرف امام خمینی باش</td>\n",
              "      <td>NEGATIVE</td>\n",
              "      <td>[]</td>\n",
              "    </tr>\n",
              "    <tr>\n",
              "      <th>10</th>\n",
              "      <td>11</td>\n",
              "      <td>زنده باد رهبرم</td>\n",
              "      <td>POSITIVE</td>\n",
              "      <td>[]</td>\n",
              "    </tr>\n",
              "    <tr>\n",
              "      <th>11</th>\n",
              "      <td>12</td>\n",
              "      <td>سلام پیجی برای دهه هشتادی ها برای شرکت در مدلی...</td>\n",
              "      <td>NATURAL</td>\n",
              "      <td>[🙌]</td>\n",
              "    </tr>\n",
              "    <tr>\n",
              "      <th>12</th>\n",
              "      <td>13</td>\n",
              "      <td>لطفا پیام من رو به خندوانه در خندوانه اعلام کن...</td>\n",
              "      <td>NATURAL</td>\n",
              "      <td>[]</td>\n",
              "    </tr>\n",
              "  </tbody>\n",
              "</table>\n",
              "</div>\n",
              "      <button class=\"colab-df-convert\" onclick=\"convertToInteractive('df-18958e53-d9e0-4181-b441-c84caf34d500')\"\n",
              "              title=\"Convert this dataframe to an interactive table.\"\n",
              "              style=\"display:none;\">\n",
              "        \n",
              "  <svg xmlns=\"http://www.w3.org/2000/svg\" height=\"24px\"viewBox=\"0 0 24 24\"\n",
              "       width=\"24px\">\n",
              "    <path d=\"M0 0h24v24H0V0z\" fill=\"none\"/>\n",
              "    <path d=\"M18.56 5.44l.94 2.06.94-2.06 2.06-.94-2.06-.94-.94-2.06-.94 2.06-2.06.94zm-11 1L8.5 8.5l.94-2.06 2.06-.94-2.06-.94L8.5 2.5l-.94 2.06-2.06.94zm10 10l.94 2.06.94-2.06 2.06-.94-2.06-.94-.94-2.06-.94 2.06-2.06.94z\"/><path d=\"M17.41 7.96l-1.37-1.37c-.4-.4-.92-.59-1.43-.59-.52 0-1.04.2-1.43.59L10.3 9.45l-7.72 7.72c-.78.78-.78 2.05 0 2.83L4 21.41c.39.39.9.59 1.41.59.51 0 1.02-.2 1.41-.59l7.78-7.78 2.81-2.81c.8-.78.8-2.07 0-2.86zM5.41 20L4 18.59l7.72-7.72 1.47 1.35L5.41 20z\"/>\n",
              "  </svg>\n",
              "      </button>\n",
              "      \n",
              "  <style>\n",
              "    .colab-df-container {\n",
              "      display:flex;\n",
              "      flex-wrap:wrap;\n",
              "      gap: 12px;\n",
              "    }\n",
              "\n",
              "    .colab-df-convert {\n",
              "      background-color: #E8F0FE;\n",
              "      border: none;\n",
              "      border-radius: 50%;\n",
              "      cursor: pointer;\n",
              "      display: none;\n",
              "      fill: #1967D2;\n",
              "      height: 32px;\n",
              "      padding: 0 0 0 0;\n",
              "      width: 32px;\n",
              "    }\n",
              "\n",
              "    .colab-df-convert:hover {\n",
              "      background-color: #E2EBFA;\n",
              "      box-shadow: 0px 1px 2px rgba(60, 64, 67, 0.3), 0px 1px 3px 1px rgba(60, 64, 67, 0.15);\n",
              "      fill: #174EA6;\n",
              "    }\n",
              "\n",
              "    [theme=dark] .colab-df-convert {\n",
              "      background-color: #3B4455;\n",
              "      fill: #D2E3FC;\n",
              "    }\n",
              "\n",
              "    [theme=dark] .colab-df-convert:hover {\n",
              "      background-color: #434B5C;\n",
              "      box-shadow: 0px 1px 3px 1px rgba(0, 0, 0, 0.15);\n",
              "      filter: drop-shadow(0px 1px 2px rgba(0, 0, 0, 0.3));\n",
              "      fill: #FFFFFF;\n",
              "    }\n",
              "  </style>\n",
              "\n",
              "      <script>\n",
              "        const buttonEl =\n",
              "          document.querySelector('#df-18958e53-d9e0-4181-b441-c84caf34d500 button.colab-df-convert');\n",
              "        buttonEl.style.display =\n",
              "          google.colab.kernel.accessAllowed ? 'block' : 'none';\n",
              "\n",
              "        async function convertToInteractive(key) {\n",
              "          const element = document.querySelector('#df-18958e53-d9e0-4181-b441-c84caf34d500');\n",
              "          const dataTable =\n",
              "            await google.colab.kernel.invokeFunction('convertToInteractive',\n",
              "                                                     [key], {});\n",
              "          if (!dataTable) return;\n",
              "\n",
              "          const docLinkHtml = 'Like what you see? Visit the ' +\n",
              "            '<a target=\"_blank\" href=https://colab.research.google.com/notebooks/data_table.ipynb>data table notebook</a>'\n",
              "            + ' to learn more about interactive tables.';\n",
              "          element.innerHTML = '';\n",
              "          dataTable['output_type'] = 'display_data';\n",
              "          await google.colab.output.renderOutput(dataTable, element);\n",
              "          const docLink = document.createElement('div');\n",
              "          docLink.innerHTML = docLinkHtml;\n",
              "          element.appendChild(docLink);\n",
              "        }\n",
              "      </script>\n",
              "    </div>\n",
              "  </div>\n",
              "  "
            ]
          },
          "metadata": {},
          "execution_count": 72
        }
      ],
      "source": [
        "import emoji\n",
        "import regex\n",
        "import re\n",
        "\n",
        "def clean_text(text):\n",
        "    text=  emoji.demojize(text)\n",
        "    text= re.sub(r'(:[!_\\-\\w]+:)', '', text)\n",
        "    text= re.sub(r'@\\w+', '', text)\n",
        "    text =  text.replace(\"#\", \" \")\n",
        "    return text\n",
        "\n",
        "df['emoji'] = df['text'].apply(lambda x : emoji.distinct_emoji_list(x))\n",
        "df['text'] = df['text'].apply(lambda x : clean_text(x))\n",
        "\n",
        "df.loc[:12,:]\n"
      ]
    },
    {
      "cell_type": "code",
      "execution_count": 73,
      "id": "cae2a140",
      "metadata": {
        "id": "cae2a140"
      },
      "outputs": [],
      "source": [
        "from hazm import sent_tokenize, word_tokenize\n",
        "from hazm import Normalizer\n",
        "from hazm import Stemmer, Lemmatizer\n",
        "from hazm import stopwords_list\n",
        "\n",
        "normalizer = Normalizer()\n",
        "lemmatizer = Lemmatizer()\n",
        "\n",
        "df['normalized_content'] = df['text']\n",
        "\n",
        "df['normalized_content'] = df['normalized_content'].apply(lambda row:normalizer.normalize(row))\n",
        "\n",
        "\n",
        "nrows = len(df)\n",
        "lemmatized_text_list = []\n",
        "\n",
        "for row in range(0, nrows):\n",
        "    \n",
        "    lemmatized_list = []\n",
        "    \n",
        "    text = df.loc[row]['normalized_content']\n",
        "    text_words = text.split(\" \")\n",
        "\n",
        "    for word in text_words:\n",
        "        lemmatized_list.append(lemmatizer.lemmatize(word))\n",
        "        \n",
        "    lemmatized_text = \" \".join(lemmatized_list)\n",
        "    \n",
        "    lemmatized_text_list.append(lemmatized_text)\n",
        "\n",
        "df['normalized_content'] = lemmatized_text_list"
      ]
    },
    {
      "cell_type": "code",
      "execution_count": null,
      "id": "b6b42e4d",
      "metadata": {
        "id": "b6b42e4d",
        "outputId": "8b9996a0-4403-411e-d460-c8372b57b347"
      },
      "outputs": [
        {
          "data": {
            "text/html": [
              "<div>\n",
              "<style scoped>\n",
              "    .dataframe tbody tr th:only-of-type {\n",
              "        vertical-align: middle;\n",
              "    }\n",
              "\n",
              "    .dataframe tbody tr th {\n",
              "        vertical-align: top;\n",
              "    }\n",
              "\n",
              "    .dataframe thead th {\n",
              "        text-align: right;\n",
              "    }\n",
              "</style>\n",
              "<table border=\"1\" class=\"dataframe\">\n",
              "  <thead>\n",
              "    <tr style=\"text-align: right;\">\n",
              "      <th></th>\n",
              "      <th>line</th>\n",
              "      <th>text</th>\n",
              "      <th>average tag</th>\n",
              "      <th>emoji</th>\n",
              "      <th>normalized_content</th>\n",
              "    </tr>\n",
              "  </thead>\n",
              "  <tbody>\n",
              "    <tr>\n",
              "      <th>0</th>\n",
              "      <td>1</td>\n",
              "      <td>با تشکر از شما آقای عباسی</td>\n",
              "      <td>POSITIVE</td>\n",
              "      <td>[]</td>\n",
              "      <td>با تشکر از شما آقا عباس</td>\n",
              "    </tr>\n",
              "    <tr>\n",
              "      <th>1</th>\n",
              "      <td>2</td>\n",
              "      <td>برنامه خندوانه به زندگی ما انرژی داده مرسی</td>\n",
              "      <td>POSITIVE</td>\n",
              "      <td>[]</td>\n",
              "      <td>برنامه خندوانه به زندگی ما انرژی داده مرسی</td>\n",
              "    </tr>\n",
              "    <tr>\n",
              "      <th>2</th>\n",
              "      <td>3</td>\n",
              "      <td>مواظب کلیدت باش تو برفا گم نشه ،شب خونه راهت ن...</td>\n",
              "      <td>NEGATIVE</td>\n",
              "      <td>[]</td>\n",
              "      <td>مواظب کلید با تو برفا گم نشه، شب خونه راه نمید...</td>\n",
              "    </tr>\n",
              "    <tr>\n",
              "      <th>3</th>\n",
              "      <td>4</td>\n",
              "      <td>مایه افتخار ما شیرازی هاست که آقا اومدن اونجا ...</td>\n",
              "      <td>POSITIVE</td>\n",
              "      <td>[🌷, 🌼, 🌸]</td>\n",
              "      <td>مایه افتخار ما شیراز هاست که آقا اومدن اونجا. ...</td>\n",
              "    </tr>\n",
              "    <tr>\n",
              "      <th>4</th>\n",
              "      <td>5</td>\n",
              "      <td>بیخیار سالاد نمیشه</td>\n",
              "      <td>NATURAL</td>\n",
              "      <td>[]</td>\n",
              "      <td>بیخیار سالاد نمیشه</td>\n",
              "    </tr>\n",
              "  </tbody>\n",
              "</table>\n",
              "</div>"
            ],
            "text/plain": [
              "   line                                               text average tag  \\\n",
              "0     1                          با تشکر از شما آقای عباسی    POSITIVE   \n",
              "1     2         برنامه خندوانه به زندگی ما انرژی داده مرسی    POSITIVE   \n",
              "2     3  مواظب کلیدت باش تو برفا گم نشه ،شب خونه راهت ن...    NEGATIVE   \n",
              "3     4  مایه افتخار ما شیرازی هاست که آقا اومدن اونجا ...    POSITIVE   \n",
              "4     5                                 بیخیار سالاد نمیشه     NATURAL   \n",
              "\n",
              "       emoji                                 normalized_content  \n",
              "0         []                            با تشکر از شما آقا عباس  \n",
              "1         []         برنامه خندوانه به زندگی ما انرژی داده مرسی  \n",
              "2         []  مواظب کلید با تو برفا گم نشه، شب خونه راه نمید...  \n",
              "3  [🌷, 🌼, 🌸]  مایه افتخار ما شیراز هاست که آقا اومدن اونجا. ...  \n",
              "4         []                                 بیخیار سالاد نمیشه  "
            ]
          },
          "execution_count": 45,
          "metadata": {},
          "output_type": "execute_result"
        }
      ],
      "source": [
        "df.head()"
      ]
    },
    {
      "cell_type": "code",
      "execution_count": null,
      "id": "ec99171a",
      "metadata": {
        "id": "ec99171a",
        "outputId": "bb2a9a54-a235-42fe-c5d7-45a22b1140a5"
      },
      "outputs": [
        {
          "data": {
            "text/plain": [
              "<AxesSubplot:xlabel='average tag'>"
            ]
          },
          "execution_count": 42,
          "metadata": {},
          "output_type": "execute_result"
        },
        {
          "data": {
            "image/png": "[encoded data removed]",
            "text/plain": [
              "<Figure size 432x288 with 1 Axes>"
            ]
          },
          "metadata": {
            "needs_background": "light"
          },
          "output_type": "display_data"
        }
      ],
      "source": [
        "import matplotlib.pyplot as plt\n",
        "\n",
        "df_gb = df.groupby(\"average tag\").agg('count')\n",
        "df_gb.plot(kind = 'bar')\n"
      ]
    },
    {
      "cell_type": "code",
      "execution_count": 74,
      "id": "56a9b9fc",
      "metadata": {
        "id": "56a9b9fc"
      },
      "outputs": [],
      "source": [
        "from sklearn.preprocessing import LabelEncoder\n",
        "from sklearn.model_selection import train_test_split\n",
        "from sklearn.metrics import classification_report\n",
        "from sklearn.metrics import accuracy_score\n",
        "\n",
        "df = df[~df['average tag'].isin(['BiMani','NATURAL']) ]\n",
        "labels = df['average tag'].values\n",
        "encoder = LabelEncoder()\n",
        "encoded_labels = encoder.fit_transform(labels)"
      ]
    },
    {
      "cell_type": "code",
      "execution_count": 27,
      "id": "768e4d3c",
      "metadata": {
        "colab": {
          "base_uri": "https://localhost:8080/"
        },
        "id": "768e4d3c",
        "outputId": "b1c8bd94-e835-44ed-a356-74b459911cb1"
      },
      "outputs": [
        {
          "output_type": "execute_result",
          "data": {
            "text/plain": [
              "array([1, 1, 0, ..., 0, 0, 1])"
            ]
          },
          "metadata": {},
          "execution_count": 27
        }
      ],
      "source": [
        "(encoded_labels)"
      ]
    },
    {
      "cell_type": "code",
      "execution_count": 75,
      "id": "4c6f3fa4",
      "metadata": {
        "id": "4c6f3fa4"
      },
      "outputs": [],
      "source": [
        "texts = df['normalized_content'].values\n",
        "train_sentences, test_sentences, train_labels, test_labels = train_test_split(texts,\n",
        "                                                                              encoded_labels,\n",
        "                                                                              test_size=0.2,\n",
        "                                                                              stratify = encoded_labels)"
      ]
    },
    {
      "cell_type": "code",
      "execution_count": 84,
      "id": "0d4cfe0b",
      "metadata": {
        "colab": {
          "base_uri": "https://localhost:8080/"
        },
        "id": "0d4cfe0b",
        "outputId": "b111c2b2-6725-45d0-a55b-4c6988ce2574"
      },
      "outputs": [
        {
          "output_type": "stream",
          "name": "stderr",
          "text": [
            "/usr/local/lib/python3.8/dist-packages/sklearn/utils/deprecation.py:87: FutureWarning: Function get_feature_names is deprecated; get_feature_names is deprecated in 1.0 and will be removed in 1.2. Please use get_feature_names_out instead.\n",
            "  warnings.warn(msg, category=FutureWarning)\n"
          ]
        }
      ],
      "source": [
        "from sklearn.feature_extraction.text import CountVectorizer\n",
        "from collections import defaultdict\n",
        "\n",
        "vec = CountVectorizer()\n",
        "X = vec.fit_transform(train_sentences)\n",
        "vocab = vec.get_feature_names()\n",
        "X = X.toarray()\n",
        "\n",
        "word_counts = {}\n",
        "for l in range(2):\n",
        "    word_counts[l] = defaultdict(lambda: 0)\n",
        "for i in range(X.shape[0]):\n",
        "    l = train_labels[i]\n",
        "    \n",
        "    ''' each sentense has a vector as long as vocab '''\n",
        "    for j in range(len(vocab)): \n",
        "        word_counts[l][vocab[j]] += X[i][j]"
      ]
    },
    {
      "cell_type": "code",
      "execution_count": 78,
      "id": "bf4b6411",
      "metadata": {
        "id": "bf4b6411"
      },
      "outputs": [],
      "source": [
        "def laplace_smoothing(n_label_items, vocab, word_counts, word, text_label):\n",
        "    a = word_counts[text_label][word] + 1\n",
        "    b = n_label_items[text_label] + len(vocab)\n",
        "    return math.log(a/b)"
      ]
    },
    {
      "cell_type": "code",
      "execution_count": 79,
      "id": "2d02c780",
      "metadata": {
        "id": "2d02c780"
      },
      "outputs": [],
      "source": [
        "def group_by_label(x, y, labels):\n",
        "    data = {}\n",
        "    for l in labels:\n",
        "        data[l] = x[np.where(y == l)]\n",
        "    return data"
      ]
    },
    {
      "cell_type": "code",
      "execution_count": 80,
      "id": "08de4f12",
      "metadata": {
        "id": "08de4f12"
      },
      "outputs": [],
      "source": [
        "def fit(x, y, labels):\n",
        "    n_label_items = {}\n",
        "    log_label_priors = {}\n",
        "    n = len(x)\n",
        "    grouped_data = group_by_label(x, y, labels)\n",
        "    for l, data in grouped_data.items():\n",
        "        n_label_items[l] = len(data)\n",
        "        log_label_priors[l] = math.log(n_label_items[l] / n)\n",
        "    return n_label_items, log_label_priors"
      ]
    },
    {
      "cell_type": "code",
      "execution_count": 81,
      "id": "a8c619d8",
      "metadata": {
        "id": "a8c619d8"
      },
      "outputs": [],
      "source": [
        "def predict(n_label_items, vocab, word_counts, log_label_priors, labels, x):\n",
        "    result = []\n",
        "    for text in x:\n",
        "        label_scores = {l: log_label_priors[l] for l in labels}\n",
        "        words = set(word_tokenize(text))\n",
        "        for word in words:\n",
        "            if word not in vocab: continue\n",
        "            for l in labels:\n",
        "                log_w_given_l = laplace_smoothing(n_label_items, vocab, word_counts, word, l)\n",
        "                label_scores[l] += log_w_given_l\n",
        "        result.append(max(label_scores, key=label_scores.get))\n",
        "    return result"
      ]
    },
    {
      "cell_type": "code",
      "execution_count": 82,
      "id": "6baa3c88",
      "metadata": {
        "colab": {
          "base_uri": "https://localhost:8080/"
        },
        "id": "6baa3c88",
        "outputId": "eb6ababc-af34-422d-b59b-2a017f4f2682"
      },
      "outputs": [
        {
          "output_type": "stream",
          "name": "stdout",
          "text": [
            "Accuracy of prediction on test set :  0.8589174800354925\n"
          ]
        }
      ],
      "source": [
        "labels = [0,1]\n",
        "n_label_items, log_label_priors = fit(train_sentences,train_labels,labels)\n",
        "pred = predict(n_label_items, vocab, word_counts, log_label_priors, labels, test_sentences)\n",
        "print(\"Accuracy of prediction on test set : \", accuracy_score(test_labels,pred))"
      ]
    },
    {
      "cell_type": "code",
      "execution_count": null,
      "id": "60ec7e72",
      "metadata": {
        "id": "60ec7e72"
      },
      "outputs": [],
      "source": []
    }
  ],
  "metadata": {
    "kernelspec": {
      "display_name": "Python 3 (ipykernel)",
      "language": "python",
      "name": "python3"
    },
    "language_info": {
      "codemirror_mode": {
        "name": "ipython",
        "version": 3
      },
      "file_extension": ".py",
      "mimetype": "text/x-python",
      "name": "python",
      "nbconvert_exporter": "python",
      "pygments_lexer": "ipython3",
      "version": "3.8.10"
    },
    "colab": {
      "provenance": []
    }
  },
  "nbformat": 4,
  "nbformat_minor": 5
}